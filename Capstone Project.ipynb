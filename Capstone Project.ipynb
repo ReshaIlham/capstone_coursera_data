{
 "cells": [
  {
   "cell_type": "markdown",
   "metadata": {},
   "source": [
    "# **FINAL CAPSTONE PROJECT IN COURSERA DATA SCIENCE**"
   ]
  },
  {
   "cell_type": "markdown",
   "metadata": {},
   "source": [
    "## Introduction / Problem Description"
   ]
  },
  {
   "cell_type": "markdown",
   "metadata": {},
   "source": [
    "COVID-19 has been disrupting the life of so many people, while we in Indonesia will start to ease the lockdown in the next few weeks, but the case of the COVID still alarmingIn this notebook, I will analyze the case of  COVID-19 in Jakarta, Indonesia. My intention is to build a script that will monitoring confirmed cases in Jakarta via Health Oficial Site, mapping it base on kelurahan / neighborhood and kecamatan / borough. I also will utilize foursquare to find healthcare facilities that located in the borough to assess the density of health care facilities."
   ]
  },
  {
   "cell_type": "markdown",
   "metadata": {},
   "source": [
    "## Data "
   ]
  },
  {
   "cell_type": "markdown",
   "metadata": {},
   "source": [
    "#### The source of data that will be use in this notebook are\n",
    "1. Formal report of COVID-19 case in Jakarta will be downloaded from:  \n",
    "https://riwayat-file-covid-19-dki-jakarta-jakartagis.hub.arcgis.com/\n",
    "2. List of hospital will utilize Foursquare data"
   ]
  },
  {
   "cell_type": "markdown",
   "metadata": {},
   "source": [
    "## Proposed Step"
   ]
  },
  {
   "cell_type": "markdown",
   "metadata": {},
   "source": [
    "### This step will be use for the assessment\n",
    "1. Load the Jakarta confirmed case, including detail location\n",
    "2. Load the list of hospital via Foursquare, including detail address for borough assignment \n",
    "3. Load the map of Jakarta, clustering the Hospital by borough\n",
    "4. Load the map of Jakarta, add data of confirmed case"
   ]
  },
  {
   "cell_type": "code",
   "execution_count": null,
   "metadata": {},
   "outputs": [],
   "source": []
  }
 ],
 "metadata": {
  "kernelspec": {
   "display_name": "Python",
   "language": "python",
   "name": "conda-env-python-py"
  },
  "language_info": {
   "codemirror_mode": {
    "name": "ipython",
    "version": 3
   },
   "file_extension": ".py",
   "mimetype": "text/x-python",
   "name": "python",
   "nbconvert_exporter": "python",
   "pygments_lexer": "ipython3",
   "version": "3.6.10"
  }
 },
 "nbformat": 4,
 "nbformat_minor": 4
}
